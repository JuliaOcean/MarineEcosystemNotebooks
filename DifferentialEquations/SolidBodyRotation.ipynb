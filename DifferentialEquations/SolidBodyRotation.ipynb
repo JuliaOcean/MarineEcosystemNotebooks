{
 "cells": [
  {
   "cell_type": "markdown",
   "metadata": {},
   "source": [
    "# Single Particle Simulation Example\n",
    "\n",
    "<table><tr>\n",
    "<td> <img src=\"SolidBodyRotation.gif\" alt=\"Drawing\" style=\"width: 400px;\"/> </td>\n",
    "<td> <img src=\"ConvergingSpiral.gif\" alt=\"Drawing\" style=\"width: 400px;\"/> </td>\n",
    "</tr></table>\n",
    "\n",
    "Here we simulate the trajectory of a particle drifting in an idealized flow which is a crude representation for an ocean eddy. \n",
    "\n",
    "To start, we use solid body rotation around a central point. Exercises are provided at the end (e.g. to add a convergence / divergence term). \n",
    "\n",
    "This demonstrated the use of differential equation solvers in Julia which are broadly applicable to many other problems.\n",
    "\n",
    "- 1. setup the software and initialize example\n",
    "- 2. simulate trajectories & plot results\n",
    "- 3. experiment with parameters (user)"
   ]
  },
  {
   "cell_type": "markdown",
   "metadata": {
    "slideshow": {
     "slide_type": "subslide"
    }
   },
   "source": [
    "### For More Documentation \n",
    "\n",
    "On Julia :\n",
    "- <https://julialang.org>\n",
    "- <https://docs.julialang.org>\n",
    "\n",
    "On this notebook :\n",
    "- <https://docs.juliadiffeq.org/latest> \n",
    "- <https://en.wikipedia.org/wiki/Displacement_(vector)>\n",
    "- <https://juliaclimate.github.io/IndividualDisplacements.jl/dev>\n",
    "- <https://juliaclimate.github.io/MeshArrays.jl/dev>"
   ]
  },
  {
   "cell_type": "markdown",
   "metadata": {
    "cell_style": "center",
    "slideshow": {
     "slide_type": "slide"
    }
   },
   "source": [
    "## 1.1 Import Software\n",
    "\n",
    "The following `Julia` Packages are used for solving differential equations and plotting results."
   ]
  },
  {
   "cell_type": "code",
   "execution_count": 1,
   "metadata": {
    "cell_style": "center"
   },
   "outputs": [
    {
     "data": {
      "text/plain": [
       "SetupPeriodicDomain"
      ]
     },
     "execution_count": 1,
     "metadata": {},
     "output_type": "execute_result"
    }
   ],
   "source": [
    "using OrdinaryDiffEq, Plots\n",
    "using IndividualDisplacements, MeshArrays\n",
    "include(\"helper_functions.jl\")"
   ]
  },
  {
   "cell_type": "markdown",
   "metadata": {
    "slideshow": {
     "slide_type": "subslide"
    }
   },
   "source": [
    "## 1.2  Gridded Domain Example\n",
    "\n",
    "The `SetPeriodicDomain` helper function sets up a basic grid of size `np x np`."
   ]
  },
  {
   "cell_type": "code",
   "execution_count": 2,
   "metadata": {
    "slideshow": {
     "slide_type": "-"
    }
   },
   "outputs": [],
   "source": [
    "np=16\n",
    "Γ=SetupPeriodicDomain(np);"
   ]
  },
  {
   "cell_type": "code",
   "execution_count": 3,
   "metadata": {},
   "outputs": [],
   "source": [
    "#?SetupPeriodicDomain\n",
    "#show(Γ[\"XC\"])\n",
    "#scatter(Γ[\"XC\"][1],Γ[\"YC\"][1],leg=:none,title=\"grid points\")"
   ]
  },
  {
   "cell_type": "markdown",
   "metadata": {
    "slideshow": {
     "slide_type": "subslide"
    }
   },
   "source": [
    "## 1.3 Define Time Period & Velocity Fields\n",
    "\n",
    "For convenience, at the end we store all parameters in `𝑃` (a dictionary). \n",
    "\n",
    "_Skipped in initial presentation mode_"
   ]
  },
  {
   "cell_type": "code",
   "execution_count": 4,
   "metadata": {
    "slideshow": {
     "slide_type": "skip"
    }
   },
   "outputs": [
    {
     "data": {
      "text/plain": [
       "Dict{Any,Any} with 22 entries:\n",
       "  \"hFacC\" => \u001b[0m  name        = \u001b[34mhFacC\u001b[39m…\n",
       "  \"t0\"    => 0.0\n",
       "  \"RAS\"   => \u001b[0m  name        = \u001b[34mRAS\u001b[39m…\n",
       "  \"YC\"    => \u001b[0m  name        = \u001b[34mYC\u001b[39m…\n",
       "  \"v1\"    => \u001b[0m  data type   = \u001b[34mFloat64\u001b[39m…\n",
       "  \"Depth\" => \u001b[0m  name        = \u001b[34mDepth\u001b[39m…\n",
       "  \"RAC\"   => \u001b[0m  name        = \u001b[34mRAC\u001b[39m…\n",
       "  \"RAZ\"   => \u001b[0m  name        = \u001b[34mRAZ\u001b[39m…\n",
       "  \"u1\"    => \u001b[0m  data type   = \u001b[34mFloat64\u001b[39m…\n",
       "  \"XG\"    => \u001b[0m  name        = \u001b[34mXG\u001b[39m…\n",
       "  \"hFacW\" => \u001b[0m  name        = \u001b[34mhFacW\u001b[39m…\n",
       "  \"DYG\"   => \u001b[0m  name        = \u001b[34mDYG\u001b[39m…\n",
       "  \"YG\"    => \u001b[0m  name        = \u001b[34mYG\u001b[39m…\n",
       "  \"RAW\"   => \u001b[0m  name        = \u001b[34mRAW\u001b[39m…\n",
       "  \"u0\"    => \u001b[0m  data type   = \u001b[34mFloat64\u001b[39m…\n",
       "  \"hFacS\" => \u001b[0m  name        = \u001b[34mhFacS\u001b[39m…\n",
       "  \"t1\"    => 6.15752\n",
       "  \"DXG\"   => \u001b[0m  name        = \u001b[34mDXG\u001b[39m…\n",
       "  \"XC\"    => \u001b[0m  name        = \u001b[34mXC\u001b[39m…\n",
       "  \"DXC\"   => \u001b[0m  name        = \u001b[34mDXC\u001b[39m…\n",
       "  \"DYC\"   => \u001b[0m  name        = \u001b[34mDYC\u001b[39m…\n",
       "  \"v0\"    => \u001b[0m  data type   = \u001b[34mFloat64\u001b[39m…"
      ]
     },
     "execution_count": 4,
     "metadata": {},
     "output_type": "execute_result"
    }
   ],
   "source": [
    "#time range\n",
    "t0=0.0\n",
    "t1=0.98*2*pi\n",
    "#t1=3.0*2*pi\n",
    "𝑇 = (t0,t1)\n",
    "\n",
    "#solid-body rotation around central location\n",
    "i=Int(np/2+1)\n",
    "u=-(Γ[\"YG\"].-Γ[\"YG\"][1][i,i])\n",
    "v=(Γ[\"XG\"].-Γ[\"XG\"][1][i,i])\n",
    "\n",
    "#add some convergence to / divergence from central location\n",
    "d=0.0 \n",
    "#d=-0.1\n",
    "u=u+d*(Γ[\"XG\"].-Γ[\"XG\"][1][i,i])\n",
    "v=v+d*(Γ[\"YG\"].-Γ[\"YG\"][1][i,i])\n",
    "\n",
    "#store everything in a dictionnary\n",
    "𝑃=Dict(\"u0\" => u, \"u1\" => u, \"v0\" => v, \"v1\" => v, \"t0\" => t0, \"t1\" => t1)\n",
    "𝑃=merge(𝑃,Γ)"
   ]
  },
  {
   "cell_type": "markdown",
   "metadata": {
    "slideshow": {
     "slide_type": "slide"
    }
   },
   "source": [
    "## 1.4 Define initial position and time period"
   ]
  },
  {
   "cell_type": "code",
   "execution_count": 5,
   "metadata": {},
   "outputs": [],
   "source": [
    "u0=np*[1/3,1/3]\n",
    "du=fill(0.0,2);"
   ]
  },
  {
   "cell_type": "markdown",
   "metadata": {
    "slideshow": {
     "slide_type": "slide"
    }
   },
   "source": [
    "## 2.1 solve for particle trajectory\n",
    "\n",
    "- `ODEProblem` formulates the differential equation along with the time period `𝑇`, parameters `𝑃`\n",
    "- `solve` then performs the integration over `𝑇`, starting from `u0`, using the `Tsit5` solver\n",
    "\n",
    "_Tsit5 - Tsitouras 5/4 Runge-Kutta method. (free 4th order interpolant)._ ([from the docs](https://docs.sciml.ai/dev/solvers/ode_solve/#))\n",
    "\n",
    "_Interested in additional documentation? Try `?ODEProblem` or `?solve`_"
   ]
  },
  {
   "cell_type": "code",
   "execution_count": 6,
   "metadata": {},
   "outputs": [],
   "source": [
    "prob = ODEProblem(⬡,u0,𝑇,𝑃)\n",
    "sol = solve(prob,Tsit5(),reltol=1e-8);"
   ]
  },
  {
   "cell_type": "markdown",
   "metadata": {
    "slideshow": {
     "slide_type": "-"
    }
   },
   "source": [
    "## 2.2 Post-Process Output\n",
    "\n",
    "_(Not much in the case of this example)_"
   ]
  },
  {
   "cell_type": "code",
   "execution_count": 7,
   "metadata": {},
   "outputs": [
    {
     "data": {
      "text/plain": [
       "301"
      ]
     },
     "execution_count": 7,
     "metadata": {},
     "output_type": "execute_result"
    }
   ],
   "source": [
    "x,y=sol[1,:],sol[2,:]\n",
    "nt=length(x)"
   ]
  },
  {
   "cell_type": "markdown",
   "metadata": {
    "slideshow": {
     "slide_type": "slide"
    }
   },
   "source": [
    "## 2.3 plot result (particle trajectory)\n",
    "\n",
    "- define `myplot` convenience function\n",
    "- generate animation using `myplot`"
   ]
  },
  {
   "cell_type": "code",
   "execution_count": 8,
   "metadata": {
    "lines_to_next_cell": 2,
    "scrolled": true,
    "slideshow": {
     "slide_type": "-"
    }
   },
   "outputs": [
    {
     "data": {
      "text/plain": [
       "myplot (generic function with 1 method)"
      ]
     },
     "execution_count": 8,
     "metadata": {},
     "output_type": "execute_result"
    }
   ],
   "source": [
    "myplot(i)=plot(x[1:i],y[1:i],linewidth=2,arrow = 2,\n",
    "    title=\"Solid body rotation / Spiral example\",leg=false,\n",
    "    xaxis=\"x\",yaxis=\"y\",xlims=(0,np),ylims=(0,np))"
   ]
  },
  {
   "cell_type": "code",
   "execution_count": 9,
   "metadata": {
    "lines_to_next_cell": 0,
    "slideshow": {
     "slide_type": "subslide"
    }
   },
   "outputs": [
    {
     "name": "stderr",
     "output_type": "stream",
     "text": [
      "┌ Info: Saved animation to \n",
      "│   fn = /var/folders/1m/ddjxkwvn7bz7z9shdnh8q3040000gn/T/SolidBodyRotation.gif\n",
      "└ @ Plots /Users/gforget/.julia/packages/Plots/cc8wh/src/animation.jl:98\n"
     ]
    },
    {
     "data": {
      "text/html": [
       "<img src=\"data:image/gif;base64,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\" />"
      ],
      "text/plain": [
       "Plots.AnimatedGif(\"/var/folders/1m/ddjxkwvn7bz7z9shdnh8q3040000gn/T/SolidBodyRotation.gif\")"
      ]
     },
     "execution_count": 9,
     "metadata": {},
     "output_type": "execute_result"
    }
   ],
   "source": [
    "p=Int(ceil(nt/100))\n",
    "anim = @animate for i ∈ 1:p:nt\n",
    "    myplot(i)\n",
    "end\n",
    "pth=tempdir()*\"/\"\n",
    "gif(anim, pth*\"SolidBodyRotation.gif\", fps = 15)"
   ]
  },
  {
   "cell_type": "markdown",
   "metadata": {
    "lines_to_next_cell": 2,
    "slideshow": {
     "slide_type": "subslide"
    }
   },
   "source": [
    "### Want a single plot?\n",
    "\n",
    "Try uncommenting one line at a time in the next cell below."
   ]
  },
  {
   "cell_type": "code",
   "execution_count": 10,
   "metadata": {
    "slideshow": {
     "slide_type": "-"
    }
   },
   "outputs": [],
   "source": [
    "#plt=myplot(nt)\n",
    "#scatter!(plt,[u0[1]],[u0[2]])\n",
    "#savefig(plt,pth*\"SolidBodyRotation.png\")"
   ]
  },
  {
   "cell_type": "markdown",
   "metadata": {
    "lines_to_next_cell": 2,
    "slideshow": {
     "slide_type": "subslide"
    }
   },
   "source": [
    "### Want to change other parameters?\n",
    "\n",
    "Try uncommenting, in the code above, these lines:\n",
    "\n",
    "- `#?SetupPeriodicDomain`\n",
    "- `#show(Γ[\"XC\"])`\n",
    "- `#t1=3.0*2*pi`\n",
    "- `#d=-0.1`"
   ]
  },
  {
   "cell_type": "code",
   "execution_count": null,
   "metadata": {},
   "outputs": [],
   "source": []
  }
 ],
 "metadata": {
  "@webio": {
   "lastCommId": null,
   "lastKernelId": null
  },
  "celltoolbar": "Slideshow",
  "jupytext": {
   "encoding": "# -*- coding: utf-8 -*-",
   "formats": "ipynb,jl:light"
  },
  "kernelspec": {
   "display_name": "Julia 1.3.1",
   "language": "julia",
   "name": "julia-1.3"
  },
  "language_info": {
   "file_extension": ".jl",
   "mimetype": "application/julia",
   "name": "julia",
   "version": "1.3.1"
  },
  "rise": {
   "autolaunch": true,
   "enable_chalkboard": true,
   "overlay": "<div class='myheader'><h2>CBIOMES</h2></div><div class='myfooter'><h2>2020/06/09</h2></div>",
   "scroll": true,
   "theme": "serif"
  }
 },
 "nbformat": 4,
 "nbformat_minor": 4
}
