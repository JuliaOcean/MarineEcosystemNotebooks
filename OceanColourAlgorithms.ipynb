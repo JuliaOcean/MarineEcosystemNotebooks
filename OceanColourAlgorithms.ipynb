{
 "cells": [
  {
   "cell_type": "markdown",
   "metadata": {},
   "source": [
    "### Activate packages"
   ]
  },
  {
   "cell_type": "code",
   "execution_count": 25,
   "metadata": {},
   "outputs": [],
   "source": [
    "using Plots"
   ]
  },
  {
   "cell_type": "markdown",
   "metadata": {},
   "source": [
    "### Model and data wavebands"
   ]
  },
  {
   "cell_type": "code",
   "execution_count": 28,
   "metadata": {},
   "outputs": [
    {
     "name": "stdout",
     "output_type": "stream",
     "text": [
      "done\n"
     ]
    }
   ],
   "source": [
    "wv_drwn3=[400,425,450,475,500,525,550,575,600,625,650,675,700]\n",
    "wv_cci=[412, 443, 490, 510, 555, 670]\n",
    "println(\"done\")"
   ]
  },
  {
   "cell_type": "markdown",
   "metadata": {},
   "source": [
    "### Compute interpolation coefficients"
   ]
  },
  {
   "cell_type": "code",
   "execution_count": 29,
   "metadata": {},
   "outputs": [],
   "source": [
    "   wv_cci=[412, 443, 490, 510, 555, 670];\n",
    "   wv_drwn3=[400,425,450,475,500,525,550,575,600,625,650,675,700];\n",
    "   jj=Array{Int64,1}(undef,6)\n",
    "   ww=Array{Float64,1}(undef,6)\n",
    "   for ii=1:6\n",
    "      tmp=wv_cci[ii].-wv_drwn3\n",
    "      kk=maximum(findall(tmp.>=0))\n",
    "      jj[ii]=kk\n",
    "      ww[ii]=tmp[kk]/(wv_drwn3[kk+1]-wv_drwn3[kk])\n",
    "   end"
   ]
  },
  {
   "cell_type": "markdown",
   "metadata": {},
   "source": [
    "### Irradiance test case "
   ]
  },
  {
   "cell_type": "code",
   "execution_count": 30,
   "metadata": {},
   "outputs": [
    {
     "name": "stdout",
     "output_type": "stream",
     "text": [
      "done\n"
     ]
    }
   ],
   "source": [
    "siz=[1,1]\n",
    "Rirr=Array{Float32,3}(undef,(siz[1],siz[2],13))\n",
    "Rirr[1,1,:]= 1e-3*[23.7641,26.5037,27.9743,30.4914,28.1356,\n",
    "    21.9385,18.6545,13.5100,5.6338,3.9272,2.9621,2.1865,1.8015]\n",
    "println(\"done\")"
   ]
  },
  {
   "cell_type": "markdown",
   "metadata": {},
   "source": [
    "### Convert irradiance to reflectance"
   ]
  },
  {
   "cell_type": "code",
   "execution_count": 32,
   "metadata": {},
   "outputs": [
    {
     "name": "stdout",
     "output_type": "stream",
     "text": [
      "done\n"
     ]
    }
   ],
   "source": [
    "tmp=Rirr/3\n",
    "Rrs0=(0.52*tmp)./(1.0 .-1.7*tmp)\n",
    "println(\"done\")"
   ]
  },
  {
   "cell_type": "markdown",
   "metadata": {},
   "source": [
    "### Interpolate to observed wavelengths"
   ]
  },
  {
   "cell_type": "code",
   "execution_count": 33,
   "metadata": {},
   "outputs": [],
   "source": [
    "Rrs=Array{Float32,3}(undef,(siz[1],siz[2],6))\n",
    "for vv=1:6\n",
    "    tmp0=Rrs0[:,:,jj[vv]]\n",
    "    tmp1=Rrs0[:,:,jj[vv]+1]\n",
    "    Rrs[:,:,vv]=tmp0.*(1-ww[vv])+tmp1.*ww[vv]\n",
    "end"
   ]
  },
  {
   "cell_type": "markdown",
   "metadata": {},
   "source": [
    "### Verify result"
   ]
  },
  {
   "cell_type": "code",
   "execution_count": 34,
   "metadata": {},
   "outputs": [
    {
     "data": {
      "image/svg+xml": [
       "<?xml version=\"1.0\" encoding=\"utf-8\"?>\n",
       "<svg xmlns=\"http://www.w3.org/2000/svg\" xmlns:xlink=\"http://www.w3.org/1999/xlink\" width=\"600\" height=\"400\" viewBox=\"0 0 2400 1600\">\n",
       "<defs>\n",
       "  <clipPath id=\"clip5000\">\n",
       "    <rect x=\"0\" y=\"0\" width=\"2400\" height=\"1600\"/>\n",
       "  </clipPath>\n",
       "</defs>\n",
       "<polygon clip-path=\"url(#clip5000)\" points=\"\n",
       "0,1600 2400,1600 2400,0 0,0 \n",
       "  \" fill=\"#ffffff\" fill-rule=\"evenodd\" fill-opacity=\"1\"/>\n",
       "<defs>\n",
       "  <clipPath id=\"clip5001\">\n",
       "    <rect x=\"480\" y=\"0\" width=\"1681\" height=\"1600\"/>\n",
       "  </clipPath>\n",
       "</defs>\n",
       "<polygon clip-path=\"url(#clip5000)\" points=\"\n",
       "214.919,1503.47 2321.26,1503.47 2321.26,47.2441 214.919,47.2441 \n",
       "  \" fill=\"#ffffff\" fill-rule=\"evenodd\" fill-opacity=\"1\"/>\n",
       "<defs>\n",
       "  <clipPath id=\"clip5002\">\n",
       "    <rect x=\"214\" y=\"47\" width=\"2107\" height=\"1457\"/>\n",
       "  </clipPath>\n",
       "</defs>\n",
       "<polyline clip-path=\"url(#clip5002)\" style=\"stroke:#000000; stroke-width:2; stroke-opacity:0.1; fill:none\" points=\"\n",
       "  274.532,1503.47 274.532,47.2441 \n",
       "  \"/>\n",
       "<polyline clip-path=\"url(#clip5002)\" style=\"stroke:#000000; stroke-width:2; stroke-opacity:0.1; fill:none\" points=\"\n",
       "  671.955,1503.47 671.955,47.2441 \n",
       "  \"/>\n",
       "<polyline clip-path=\"url(#clip5002)\" style=\"stroke:#000000; stroke-width:2; stroke-opacity:0.1; fill:none\" points=\"\n",
       "  1069.38,1503.47 1069.38,47.2441 \n",
       "  \"/>\n",
       "<polyline clip-path=\"url(#clip5002)\" style=\"stroke:#000000; stroke-width:2; stroke-opacity:0.1; fill:none\" points=\"\n",
       "  1466.8,1503.47 1466.8,47.2441 \n",
       "  \"/>\n",
       "<polyline clip-path=\"url(#clip5002)\" style=\"stroke:#000000; stroke-width:2; stroke-opacity:0.1; fill:none\" points=\"\n",
       "  1864.22,1503.47 1864.22,47.2441 \n",
       "  \"/>\n",
       "<polyline clip-path=\"url(#clip5002)\" style=\"stroke:#000000; stroke-width:2; stroke-opacity:0.1; fill:none\" points=\"\n",
       "  2261.65,1503.47 2261.65,47.2441 \n",
       "  \"/>\n",
       "<polyline clip-path=\"url(#clip5002)\" style=\"stroke:#000000; stroke-width:2; stroke-opacity:0.1; fill:none\" points=\"\n",
       "  214.919,1289.43 2321.26,1289.43 \n",
       "  \"/>\n",
       "<polyline clip-path=\"url(#clip5002)\" style=\"stroke:#000000; stroke-width:2; stroke-opacity:0.1; fill:none\" points=\"\n",
       "  214.919,998.266 2321.26,998.266 \n",
       "  \"/>\n",
       "<polyline clip-path=\"url(#clip5002)\" style=\"stroke:#000000; stroke-width:2; stroke-opacity:0.1; fill:none\" points=\"\n",
       "  214.919,707.104 2321.26,707.104 \n",
       "  \"/>\n",
       "<polyline clip-path=\"url(#clip5002)\" style=\"stroke:#000000; stroke-width:2; stroke-opacity:0.1; fill:none\" points=\"\n",
       "  214.919,415.942 2321.26,415.942 \n",
       "  \"/>\n",
       "<polyline clip-path=\"url(#clip5002)\" style=\"stroke:#000000; stroke-width:2; stroke-opacity:0.1; fill:none\" points=\"\n",
       "  214.919,124.781 2321.26,124.781 \n",
       "  \"/>\n",
       "<polyline clip-path=\"url(#clip5000)\" style=\"stroke:#000000; stroke-width:4; stroke-opacity:1; fill:none\" points=\"\n",
       "  214.919,1503.47 2321.26,1503.47 \n",
       "  \"/>\n",
       "<polyline clip-path=\"url(#clip5000)\" style=\"stroke:#000000; stroke-width:4; stroke-opacity:1; fill:none\" points=\"\n",
       "  214.919,1503.47 214.919,47.2441 \n",
       "  \"/>\n",
       "<polyline clip-path=\"url(#clip5000)\" style=\"stroke:#000000; stroke-width:4; stroke-opacity:1; fill:none\" points=\"\n",
       "  274.532,1503.47 274.532,1481.63 \n",
       "  \"/>\n",
       "<polyline clip-path=\"url(#clip5000)\" style=\"stroke:#000000; stroke-width:4; stroke-opacity:1; fill:none\" points=\"\n",
       "  671.955,1503.47 671.955,1481.63 \n",
       "  \"/>\n",
       "<polyline clip-path=\"url(#clip5000)\" style=\"stroke:#000000; stroke-width:4; stroke-opacity:1; fill:none\" points=\"\n",
       "  1069.38,1503.47 1069.38,1481.63 \n",
       "  \"/>\n",
       "<polyline clip-path=\"url(#clip5000)\" style=\"stroke:#000000; stroke-width:4; stroke-opacity:1; fill:none\" points=\"\n",
       "  1466.8,1503.47 1466.8,1481.63 \n",
       "  \"/>\n",
       "<polyline clip-path=\"url(#clip5000)\" style=\"stroke:#000000; stroke-width:4; stroke-opacity:1; fill:none\" points=\"\n",
       "  1864.22,1503.47 1864.22,1481.63 \n",
       "  \"/>\n",
       "<polyline clip-path=\"url(#clip5000)\" style=\"stroke:#000000; stroke-width:4; stroke-opacity:1; fill:none\" points=\"\n",
       "  2261.65,1503.47 2261.65,1481.63 \n",
       "  \"/>\n",
       "<polyline clip-path=\"url(#clip5000)\" style=\"stroke:#000000; stroke-width:4; stroke-opacity:1; fill:none\" points=\"\n",
       "  214.919,1289.43 246.514,1289.43 \n",
       "  \"/>\n",
       "<polyline clip-path=\"url(#clip5000)\" style=\"stroke:#000000; stroke-width:4; stroke-opacity:1; fill:none\" points=\"\n",
       "  214.919,998.266 246.514,998.266 \n",
       "  \"/>\n",
       "<polyline clip-path=\"url(#clip5000)\" style=\"stroke:#000000; stroke-width:4; stroke-opacity:1; fill:none\" points=\"\n",
       "  214.919,707.104 246.514,707.104 \n",
       "  \"/>\n",
       "<polyline clip-path=\"url(#clip5000)\" style=\"stroke:#000000; stroke-width:4; stroke-opacity:1; fill:none\" points=\"\n",
       "  214.919,415.942 246.514,415.942 \n",
       "  \"/>\n",
       "<polyline clip-path=\"url(#clip5000)\" style=\"stroke:#000000; stroke-width:4; stroke-opacity:1; fill:none\" points=\"\n",
       "  214.919,124.781 246.514,124.781 \n",
       "  \"/>\n",
       "<g clip-path=\"url(#clip5000)\">\n",
       "<text style=\"fill:#000000; fill-opacity:1; font-family:Arial,Helvetica Neue,Helvetica,sans-serif; font-size:48px; text-anchor:middle;\" transform=\"rotate(0, 274.532, 1557.47)\" x=\"274.532\" y=\"1557.47\">1</text>\n",
       "</g>\n",
       "<g clip-path=\"url(#clip5000)\">\n",
       "<text style=\"fill:#000000; fill-opacity:1; font-family:Arial,Helvetica Neue,Helvetica,sans-serif; font-size:48px; text-anchor:middle;\" transform=\"rotate(0, 671.955, 1557.47)\" x=\"671.955\" y=\"1557.47\">2</text>\n",
       "</g>\n",
       "<g clip-path=\"url(#clip5000)\">\n",
       "<text style=\"fill:#000000; fill-opacity:1; font-family:Arial,Helvetica Neue,Helvetica,sans-serif; font-size:48px; text-anchor:middle;\" transform=\"rotate(0, 1069.38, 1557.47)\" x=\"1069.38\" y=\"1557.47\">3</text>\n",
       "</g>\n",
       "<g clip-path=\"url(#clip5000)\">\n",
       "<text style=\"fill:#000000; fill-opacity:1; font-family:Arial,Helvetica Neue,Helvetica,sans-serif; font-size:48px; text-anchor:middle;\" transform=\"rotate(0, 1466.8, 1557.47)\" x=\"1466.8\" y=\"1557.47\">4</text>\n",
       "</g>\n",
       "<g clip-path=\"url(#clip5000)\">\n",
       "<text style=\"fill:#000000; fill-opacity:1; font-family:Arial,Helvetica Neue,Helvetica,sans-serif; font-size:48px; text-anchor:middle;\" transform=\"rotate(0, 1864.22, 1557.47)\" x=\"1864.22\" y=\"1557.47\">5</text>\n",
       "</g>\n",
       "<g clip-path=\"url(#clip5000)\">\n",
       "<text style=\"fill:#000000; fill-opacity:1; font-family:Arial,Helvetica Neue,Helvetica,sans-serif; font-size:48px; text-anchor:middle;\" transform=\"rotate(0, 2261.65, 1557.47)\" x=\"2261.65\" y=\"1557.47\">6</text>\n",
       "</g>\n",
       "<g clip-path=\"url(#clip5000)\">\n",
       "<text style=\"fill:#000000; fill-opacity:1; font-family:Arial,Helvetica Neue,Helvetica,sans-serif; font-size:48px; text-anchor:end;\" transform=\"rotate(0, 190.919, 1306.93)\" x=\"190.919\" y=\"1306.93\">0.001</text>\n",
       "</g>\n",
       "<g clip-path=\"url(#clip5000)\">\n",
       "<text style=\"fill:#000000; fill-opacity:1; font-family:Arial,Helvetica Neue,Helvetica,sans-serif; font-size:48px; text-anchor:end;\" transform=\"rotate(0, 190.919, 1015.77)\" x=\"190.919\" y=\"1015.77\">0.002</text>\n",
       "</g>\n",
       "<g clip-path=\"url(#clip5000)\">\n",
       "<text style=\"fill:#000000; fill-opacity:1; font-family:Arial,Helvetica Neue,Helvetica,sans-serif; font-size:48px; text-anchor:end;\" transform=\"rotate(0, 190.919, 724.604)\" x=\"190.919\" y=\"724.604\">0.003</text>\n",
       "</g>\n",
       "<g clip-path=\"url(#clip5000)\">\n",
       "<text style=\"fill:#000000; fill-opacity:1; font-family:Arial,Helvetica Neue,Helvetica,sans-serif; font-size:48px; text-anchor:end;\" transform=\"rotate(0, 190.919, 433.442)\" x=\"190.919\" y=\"433.442\">0.004</text>\n",
       "</g>\n",
       "<g clip-path=\"url(#clip5000)\">\n",
       "<text style=\"fill:#000000; fill-opacity:1; font-family:Arial,Helvetica Neue,Helvetica,sans-serif; font-size:48px; text-anchor:end;\" transform=\"rotate(0, 190.919, 142.281)\" x=\"190.919\" y=\"142.281\">0.005</text>\n",
       "</g>\n",
       "<polyline clip-path=\"url(#clip5002)\" style=\"stroke:#009af9; stroke-width:16; stroke-opacity:1; fill:none\" points=\"\n",
       "  274.532,296.593 671.955,167.479 1069.38,88.4582 1466.8,266.365 1864.22,681.961 2261.65,1462.25 \n",
       "  \"/>\n",
       "<polyline clip-path=\"url(#clip5002)\" style=\"stroke:#e26f46; stroke-width:16; stroke-opacity:1; fill:none\" stroke-dasharray=\"64, 40\" points=\"\n",
       "  274.532,296.595 671.955,167.494 1069.38,88.473 1466.8,266.373 1864.22,681.948 2261.65,1462.26 \n",
       "  \"/>\n",
       "<polygon clip-path=\"url(#clip5000)\" points=\"\n",
       "1958.43,312.204 2249.26,312.204 2249.26,130.764 1958.43,130.764 \n",
       "  \" fill=\"#ffffff\" fill-rule=\"evenodd\" fill-opacity=\"1\"/>\n",
       "<polyline clip-path=\"url(#clip5000)\" style=\"stroke:#000000; stroke-width:4; stroke-opacity:1; fill:none\" points=\"\n",
       "  1958.43,312.204 2249.26,312.204 2249.26,130.764 1958.43,130.764 1958.43,312.204 \n",
       "  \"/>\n",
       "<polyline clip-path=\"url(#clip5000)\" style=\"stroke:#009af9; stroke-width:16; stroke-opacity:1; fill:none\" points=\"\n",
       "  1982.43,191.244 2126.43,191.244 \n",
       "  \"/>\n",
       "<g clip-path=\"url(#clip5000)\">\n",
       "<text style=\"fill:#000000; fill-opacity:1; font-family:Arial,Helvetica Neue,Helvetica,sans-serif; font-size:48px; text-anchor:start;\" transform=\"rotate(0, 2150.43, 208.744)\" x=\"2150.43\" y=\"208.744\">y1</text>\n",
       "</g>\n",
       "<polyline clip-path=\"url(#clip5000)\" style=\"stroke:#e26f46; stroke-width:16; stroke-opacity:1; fill:none\" stroke-dasharray=\"64, 40\" points=\"\n",
       "  1982.43,251.724 2126.43,251.724 \n",
       "  \"/>\n",
       "<g clip-path=\"url(#clip5000)\">\n",
       "<text style=\"fill:#000000; fill-opacity:1; font-family:Arial,Helvetica Neue,Helvetica,sans-serif; font-size:48px; text-anchor:start;\" transform=\"rotate(0, 2150.43, 269.224)\" x=\"2150.43\" y=\"269.224\">y2</text>\n",
       "</g>\n",
       "</svg>\n"
      ]
     },
     "execution_count": 34,
     "metadata": {},
     "output_type": "execute_result"
    }
   ],
   "source": [
    "ref_Rrs0=1e-3*[4.1753, 4.6640, 4.9270, 5.3781, 4.9558, 3.8505\n",
    "    , 3.2680, 2.3598, 0.9796, 0.6822, 0.5143, 0.3795, 0.3126]\n",
    "\n",
    "ref_Rrs=1e-3*[4.4099, 4.8533, 5.1247, 4.5137, 3.0864, 0.4064]\n",
    "\n",
    "plot(vec(Rrs),linewidth=4)\n",
    "plot!(ref_Rrs,linewidth=4,ls=:dash)"
   ]
  },
  {
   "cell_type": "markdown",
   "metadata": {},
   "source": [
    "### Compute \"satellite Chl\" in model"
   ]
  },
  {
   "cell_type": "code",
   "execution_count": 35,
   "metadata": {},
   "outputs": [
    {
     "data": {
      "text/plain": [
       "1×1 Array{Float64,2}:\n",
       " 0.6101220292455024"
      ]
     },
     "execution_count": 35,
     "metadata": {},
     "output_type": "execute_result"
    }
   ],
   "source": [
    "RRSB=max.(Rrs[:,:,2],Rrs[:,:,3])\n",
    "RRSG=Rrs[:,:,5]\n",
    "X = log10.(RRSB./RRSG) #ratio of blue to green\n",
    "C=[0.3272, -2.9940, +2.7218, -1.2259, -0.5683] #OC4 algorithms (SeaWifs, CCI)\n",
    "a0=C[1]; a1=C[2]; a2=C[3]; a3=C[4]; a4=C[5]\n",
    "chld=exp10.(a0.+a1*X+a2*X.^2+a3*X.^3+a4*X.^4)"
   ]
  },
  {
   "cell_type": "markdown",
   "metadata": {},
   "source": [
    "### Classifier example (Moore 2009 \"Fuzzy logic classifier\")"
   ]
  },
  {
   "cell_type": "code",
   "execution_count": 37,
   "metadata": {},
   "outputs": [],
   "source": [
    "#vectors\n",
    "M=Array{Any,1}(undef,8)\n",
    "M[1]=[0.0234 0.0192 0.0129 0.0075 0.0031 0.0002]\n",
    "M[2]=[0.0162 0.0141 0.0112 0.0073 0.0034 0.0002]\n",
    "M[3]=[0.0107 0.0098 0.0092 0.0070 0.0039 0.0003]\n",
    "M[4]=[0.0065 0.0064 0.0070 0.0064 0.0048 0.0006]\n",
    "M[5]=[0.0033 0.0034 0.0042 0.0042 0.0043 0.0009]\n",
    "M[6]=[0.0064 0.0074 0.0105 0.0116 0.0140 0.0041]\n",
    "M[7]=[0.0121 0.0140 0.0192 0.0204 0.0231 0.0084]\n",
    "M[8]=[0.0184 0.0230 0.0333 0.0359 0.0409 0.0137]\n",
    "\n",
    "#matrices\n",
    "S=Array{Any,1}(undef,8)\n",
    "S[1]=[0.00000959 0.00000556 0.00000138 -0.00000034 -0.00000024 -0.00000003; \n",
    "        0.00000556 0.00000493 0.00000193 0.00000060 0.00000023 0.00000001; \n",
    "        0.00000138 0.00000193 0.00000282 0.00000223 0.00000119 0.00000007; \n",
    "        -0.00000034 0.00000060 0.00000223 0.00000232 0.00000119 0.00000007; \n",
    "        -0.00000024 0.00000023 0.00000119 0.00000119 0.00000071 0.00000005; \n",
    "        -0.00000003 0.00000001 0.00000007 0.00000007 0.00000005 0.00000001]\n",
    "S[2]=[0.00000346 0.00000186 -0.00000011 -0.00000060 -0.00000062 -0.00000005; \n",
    "        0.00000186 0.00000228 0.00000086 0.00000033 -0.00000007 0.00000003; \n",
    "        -0.00000011 0.00000086 0.00000231 0.00000221 0.00000145 0.00000023; \n",
    "        -0.00000060 0.00000033 0.00000221 0.00000266 0.00000191 0.00000034; \n",
    "        -0.00000062 -0.00000007 0.00000145 0.00000191 0.00000175 0.00000041; \n",
    "        -0.00000005 0.00000003 0.00000023 0.00000034 0.00000041 0.00000021]\n",
    "S[3]=[0.00000241 0.00000144 0.00000035 -0.00000031 -0.00000063 -0.00000006; \n",
    "        0.00000144 0.00000138 0.00000076 0.00000015 -0.00000021 -0.00000001; \n",
    "        0.00000035 0.00000076 0.00000161 0.00000156 0.00000121 0.00000016; \n",
    "        -0.00000031 0.00000015 0.00000156 0.00000227 0.00000209 0.00000031; \n",
    "        -0.00000063 -0.00000021 0.00000121 0.00000209 0.00000225 0.00000037; \n",
    "        -0.00000006 -0.00000001 0.00000016 0.00000031 0.00000037 0.00000013]\n",
    "S[4]=[0.00000166 0.00000091 0.00000034 -0.00000009 -0.00000080 -0.00000025; \n",
    "        0.00000091 0.00000097 0.00000071 0.00000025 -0.00000041 -0.00000015; \n",
    "        0.00000034 0.00000071 0.00000118 0.00000103 0.00000072 0.00000003; \n",
    "        -0.00000009 0.00000025 0.00000103 0.00000137 0.00000162 0.00000025; \n",
    "        -0.00000080 -0.00000041 0.00000072 0.00000162 0.00000290 0.00000065; \n",
    "        -0.00000025 -0.00000015 0.00000003 0.00000025 0.00000065 0.00000050]\n",
    "S[5]=[0.00000178 0.00000132 0.00000104 0.00000081 0.00000018 -0.00000014; \n",
    "        0.00000132 0.00000127 0.00000121 0.00000099 0.00000034 -0.00000010; \n",
    "        0.00000104 0.00000121 0.00000150 0.00000142 0.00000110 0.00000013; \n",
    "        0.00000081 0.00000099 0.00000142 0.00000158 0.00000177 0.00000042; \n",
    "        0.00000018 0.00000034 0.00000110 0.00000177 0.00000351 0.00000131; \n",
    "        -0.00000014 -0.00000010 0.00000013 0.00000042 0.00000131 0.00000081]\n",
    "S[6]=[0.00000715 0.00000586 0.00000409 0.00000292 0.00000005 -0.00000075; \n",
    "        0.00000586 0.00000589 0.00000520 0.00000398 0.00000027 -0.00000114; \n",
    "        0.00000409 0.00000520 0.00000634 0.00000541 0.00000188 -0.00000097; \n",
    "        0.00000292 0.00000398 0.00000541 0.00000528 0.00000392 0.00000070; \n",
    "        0.00000005 0.00000027 0.00000188 0.00000392 0.00000995 0.00000657; \n",
    "        -0.00000075 -0.00000114 -0.00000097 0.00000070 0.00000657 0.00000819]\n",
    "S[7]=[0.00002625 0.00001981 0.00001058 0.00000544 -0.00000654 -0.00001122; \n",
    "        0.00001981 0.00001745 0.00001314 0.00000822 -0.00000431 -0.00001228; \n",
    "        0.00001058 0.00001314 0.00001629 0.00001226 0.00000035 -0.00001311; \n",
    "        0.00000544 0.00000822 0.00001226 0.00001170 0.00000742 -0.00000500; \n",
    "        -0.00000654 -0.00000431 0.00000035 0.00000742 0.00002241 0.00001782; \n",
    "        -0.00001122 -0.00001228 -0.00001311 -0.00000500 0.00001782 0.00003987]\n",
    "S[8]=[0.00001186 0.00001134 0.00001139 0.00000919 0.00000395 -0.00000186; \n",
    "        0.00001134 0.00001484 0.00002034 0.00001907 0.00001531 0.00000087; \n",
    "        0.00001139 0.00002034 0.00003467 0.00003546 0.00003555 0.00000708; \n",
    "        0.00000919 0.00001907 0.00003546 0.00003907 0.00004604 0.00001733; \n",
    "        0.00000395 0.00001531 0.00003555 0.00004604 0.00007306 0.00004953; \n",
    "        -0.00000186 0.00000087 0.00000708 0.00001733 0.00004953 0.00006542];\n",
    "\n",
    "#compute fuzzy logic classifier:\n",
    "#fuzzyMmbr=NaN*zeros(length(S),1)\n",
    "#for ii=1:length(S)\n",
    "#    Xi=(Rrs_at_cci-M[ii})'\n",
    "#    Zi=Xi'*inv(S[ii})*Xi\n",
    "#    fuzzyMmbr(ii)=1-chi2cdf(Zi,6)\n",
    "#end"
   ]
  }
 ],
 "metadata": {
  "kernelspec": {
   "display_name": "Julia 1.1.0",
   "language": "julia",
   "name": "julia-1.1"
  },
  "language_info": {
   "file_extension": ".jl",
   "mimetype": "application/julia",
   "name": "julia",
   "version": "1.1.0"
  }
 },
 "nbformat": 4,
 "nbformat_minor": 2
}
